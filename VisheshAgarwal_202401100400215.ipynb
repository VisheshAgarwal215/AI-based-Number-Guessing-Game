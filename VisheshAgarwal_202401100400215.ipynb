{
  "nbformat": 4,
  "nbformat_minor": 0,
  "metadata": {
    "colab": {
      "provenance": []
    },
    "kernelspec": {
      "name": "python3",
      "display_name": "Python 3"
    },
    "language_info": {
      "name": "python"
    }
  },
  "cells": [
    {
      "cell_type": "code",
      "execution_count": 6,
      "metadata": {
        "colab": {
          "base_uri": "https://localhost:8080/"
        },
        "id": "GH5-ULFYOubX",
        "outputId": "2c6a0108-176e-4b23-caa0-d08a1f15bf4f"
      },
      "outputs": [
        {
          "output_type": "stream",
          "name": "stdout",
          "text": [
            "Welcome to Guessing the number game!\n",
            "Enter the lower limit: 60\n",
            "Enter the upper limit: 100\n",
            "Enter the number in the range of 60 to 100\n",
            "Enter your guess: 69\n",
            "Too low!\n",
            "Enter your guess: 78\n",
            "Too low!\n",
            "Enter your guess: 86\n",
            "Too low!\n",
            "Enter your guess: 95\n",
            "Too high!\n",
            "Enter your guess: 89\n",
            "Too low!\n",
            "Sorry, you've run out of attempts. The number was 94.\n"
          ]
        }
      ],
      "source": [
        "import random  # Importing the random module to generate random numbers\n",
        "def generate_number(): # Define a function to generate and guess a number\n",
        "    print(\"Welcome to Guessing the number game!\")\n",
        "    a=int(input(\"Enter the lower limit: \"))\n",
        "    b=int(input(\"Enter the upper limit: \"))\n",
        "    print(\"Enter the number in the range of\",a,\"to\",b)\n",
        "     # Generate a random number between the lower and upper limits (inclusive)\n",
        "    generate_number = random.randint(a,b)\n",
        "    attempts=0\n",
        "     # While the attempts counter is less than 5, continue asking the user to guess\n",
        "    while attempts != 5:\n",
        "      try:\n",
        "        guess = int(input(\"Enter your guess: \"))\n",
        "        # Increment the number of attempts\n",
        "        attempts += 1\n",
        "        if guess == generate_number:\n",
        "            print(f\"Correct! You guessed it in {attempts} attempts.\")\n",
        "            break\n",
        "        print(\"Too low!\" if guess < generate_number else \"Too high!\")\n",
        "        # Handle the case where the user inputs something that is not a valid integer\n",
        "      except ValueError:\n",
        "            print(\"Enter a valid number.\")\n",
        "    else:\n",
        "      # Print the correct number and inform the user they've used all their attempts\n",
        "        print(f\"Sorry, you've run out of attempts. The number was {generate_number}.\")\n",
        "if __name__ == \"__main__\":\n",
        "  # If the script is being run directly, call the function to start the game\n",
        "    generate_number()"
      ]
    }
  ]
}